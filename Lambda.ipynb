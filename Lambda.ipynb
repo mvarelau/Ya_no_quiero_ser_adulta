{
  "nbformat": 4,
  "nbformat_minor": 0,
  "metadata": {
    "colab": {
      "provenance": []
    },
    "kernelspec": {
      "name": "python3",
      "display_name": "Python 3"
    },
    "language_info": {
      "name": "python"
    }
  },
  "cells": [
    {
      "cell_type": "markdown",
      "source": [
        "#Punto 1\n",
        "###Lamba punto 1 reto 6"
      ],
      "metadata": {
        "id": "W8nOGrlfjZyH"
      }
    },
    {
      "cell_type": "code",
      "execution_count": 1,
      "metadata": {
        "colab": {
          "base_uri": "https://localhost:8080/"
        },
        "id": "4MU1mZxsjYpj",
        "outputId": "c39b3eee-b784-4561-934a-97844694e31e"
      },
      "outputs": [
        {
          "output_type": "stream",
          "name": "stdout",
          "text": [
            "Ingrese el radio de la esfera: 2\n",
            "Ingrese el radio del cono: 4\n",
            "INgrese la altura del cono: 5\n",
            "El area suoerficial de la figura es: 67.30398902679545 \n",
            "El volumen de la figura es: 117.28612573401892\n"
          ]
        }
      ],
      "source": [
        "import math\n",
        "if __name__ == \"__main__\":\n",
        "  r1=float(input(\"Ingrese el radio de la esfera: \"))\n",
        "  r2=float(input(\"Ingrese el radio del cono: \"))\n",
        "  h=float(input(\"INgrese la altura del cono: \"))\n",
        "  g= (lambda r2, h : ((r2**2) + (h**2))**0.5)(r2,r1)\n",
        "  area_superficial =(lambda r1,r2,g : (4 * math.pi * (r1**2)) + (math.pi * r2 + g))(r1,r2,g)\n",
        "  volumen=(lambda r1, r2, h: (4/3* math.pi*(r1**3) ) + (1/3 * math.pi * (r2**2)*h))(r1,r2,h)\n",
        "  print(f\"El area suoerficial de la figura es: {area_superficial} \")\n",
        "  print(f\"El volumen de la figura es: {volumen}\")"
      ]
    },
    {
      "cell_type": "markdown",
      "source": [
        "### Lamba punto 4 reto 6"
      ],
      "metadata": {
        "id": "88K1S3wojm2l"
      }
    },
    {
      "cell_type": "code",
      "source": [
        "\n",
        "  print(\"Ingresa la cantidad de cada porducto que te dijo tu mamá que compraras: \")\n",
        "  P = int(input(\"Panes: \"))\n",
        "  M = int(input(\"Bolsasa de leche: \"))\n",
        "  H = int(input(\"Huevos: \"))\n",
        "  B = int(input(\"Ingresa la cantidad de dinreo que te dió tu mamá: \"))\n",
        "  vueltas_O_deuda=(lambda B,P,M,H: B-((P*300)+(M*3300)+(H*350)))(B,P,M,H)\n",
        "  if vueltas_O_deuda >= 0:\n",
        "    print(f\"Te deben dar {vueltas_O_deuda} de vueltas \")\n",
        "  else:\n",
        "    vueltas_O_deuda*=-1\n",
        "    print(f\"Le debes a la tienda {vueltas_O_deuda}\")\n",
        "\n"
      ],
      "metadata": {
        "colab": {
          "base_uri": "https://localhost:8080/"
        },
        "id": "h1CQrVOLjquF",
        "outputId": "781bcd99-821f-4972-c622-8a59c63bfc71"
      },
      "execution_count": 2,
      "outputs": [
        {
          "output_type": "stream",
          "name": "stdout",
          "text": [
            "Ingresa la cantidad de cada porducto que te dijo tu mamá que compraras: \n",
            "Panes: 3\n",
            "Bolsasa de leche: 2\n",
            "Huevos: 1\n",
            "Ingresa la cantidad de dinreo que te dió tu mamá: 15000\n",
            "Te deben dar 7150 de vueltas \n"
          ]
        }
      ]
    },
    {
      "cell_type": "markdown",
      "source": [
        "###Punto 5 reto 6\n"
      ],
      "metadata": {
        "id": "MaQ6OW8LkWlx"
      }
    },
    {
      "cell_type": "code",
      "source": [
        "\n",
        "  C = float(input(\"Ingrese el valor del prestamo: \"))\n",
        "  I = float(input(\"Ingrese el valor del interés: \"))\n",
        "  N = float(input(\"Ingrese el  tiempo: \"))\n",
        "  VALOR_PRESTAMO =(lambda a,b,c: a * ((1+b)**c))(C,I,N)\n",
        "  print(f\"Este es el valor total del prestamo {VALOR_PRESTAMO}\")\n"
      ],
      "metadata": {
        "colab": {
          "base_uri": "https://localhost:8080/"
        },
        "id": "TjFmNXHFkWGS",
        "outputId": "f3b489d2-42f6-4440-b704-c7b94e9f77af"
      },
      "execution_count": 3,
      "outputs": [
        {
          "output_type": "stream",
          "name": "stdout",
          "text": [
            "Ingrese el valor del prestamo: 100000\n",
            "Ingrese el valor del interés: 2\n",
            "Ingrese el  tiempo: 3\n",
            "Este es el valor total del prestamo 2700000.0\n"
          ]
        }
      ]
    },
    {
      "cell_type": "markdown",
      "source": [],
      "metadata": {
        "id": "SLG61m_Ej_zM"
      }
    }
  ]
}