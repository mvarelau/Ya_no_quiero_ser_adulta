{
  "nbformat": 4,
  "nbformat_minor": 0,
  "metadata": {
    "colab": {
      "provenance": []
    },
    "kernelspec": {
      "name": "python3",
      "display_name": "Python 3"
    },
    "language_info": {
      "name": "python"
    }
  },
  "cells": [
    {
      "cell_type": "markdown",
      "source": [
        "# Punto 2\n",
        "###Args punto 3 reto 8"
      ],
      "metadata": {
        "id": "iLI3gZ3VlMiq"
      }
    },
    {
      "cell_type": "code",
      "execution_count": 8,
      "metadata": {
        "colab": {
          "base_uri": "https://localhost:8080/"
        },
        "id": "__yPyF41lIow",
        "outputId": "546c15a1-9179-4a83-a608-bdc3d351cdf3"
      },
      "outputs": [
        {
          "output_type": "stream",
          "name": "stdout",
          "text": [
            "Ingrese un número natural (n ≥ 2): 10\n",
            "Números pares descendentes hasta 2:\n",
            "10\n",
            "8\n",
            "6\n",
            "4\n",
            "2\n"
          ]
        }
      ],
      "source": [
        "#8-3\n",
        "def imprimir_pares_descendentes(*args):\n",
        "    if n < 2:\n",
        "        print(\"El número debe ser mayor o igual a 2.\")\n",
        "    else:\n",
        "        for b in range(n, 1, -1):\n",
        "            if b % 2 == 0:\n",
        "                print(b)\n",
        "\n",
        "n = int(input(\"Ingrese un número natural (n ≥ 2): \"))\n",
        "print(\"Números pares descendentes hasta 2:\")\n",
        "imprimir_pares_descendentes(n)\n",
        "\n",
        "\n",
        "\n",
        "\n"
      ]
    },
    {
      "cell_type": "markdown",
      "source": [
        "### Args punto 1 reto 8\n",
        "\n"
      ],
      "metadata": {
        "id": "gzv7lrvhnagT"
      }
    },
    {
      "cell_type": "code",
      "source": [
        "#8-1\n",
        "def cuadrado(*args):\n",
        "  cuadrado=a**2\n",
        "  print(f\"{a} - {cuadrado}\")\n",
        "\n",
        "for a in range(1,101):\n",
        "  cuadrado(a)"
      ],
      "metadata": {
        "colab": {
          "base_uri": "https://localhost:8080/"
        },
        "id": "aDejcdz_nbSi",
        "outputId": "92a0b796-b175-4dd0-c6d6-d9ad58e1b7a5"
      },
      "execution_count": 7,
      "outputs": [
        {
          "output_type": "stream",
          "name": "stdout",
          "text": [
            "1 - 1\n",
            "2 - 4\n",
            "3 - 9\n",
            "4 - 16\n",
            "5 - 25\n",
            "6 - 36\n",
            "7 - 49\n",
            "8 - 64\n",
            "9 - 81\n",
            "10 - 100\n",
            "11 - 121\n",
            "12 - 144\n",
            "13 - 169\n",
            "14 - 196\n",
            "15 - 225\n",
            "16 - 256\n",
            "17 - 289\n",
            "18 - 324\n",
            "19 - 361\n",
            "20 - 400\n",
            "21 - 441\n",
            "22 - 484\n",
            "23 - 529\n",
            "24 - 576\n",
            "25 - 625\n",
            "26 - 676\n",
            "27 - 729\n",
            "28 - 784\n",
            "29 - 841\n",
            "30 - 900\n",
            "31 - 961\n",
            "32 - 1024\n",
            "33 - 1089\n",
            "34 - 1156\n",
            "35 - 1225\n",
            "36 - 1296\n",
            "37 - 1369\n",
            "38 - 1444\n",
            "39 - 1521\n",
            "40 - 1600\n",
            "41 - 1681\n",
            "42 - 1764\n",
            "43 - 1849\n",
            "44 - 1936\n",
            "45 - 2025\n",
            "46 - 2116\n",
            "47 - 2209\n",
            "48 - 2304\n",
            "49 - 2401\n",
            "50 - 2500\n",
            "51 - 2601\n",
            "52 - 2704\n",
            "53 - 2809\n",
            "54 - 2916\n",
            "55 - 3025\n",
            "56 - 3136\n",
            "57 - 3249\n",
            "58 - 3364\n",
            "59 - 3481\n",
            "60 - 3600\n",
            "61 - 3721\n",
            "62 - 3844\n",
            "63 - 3969\n",
            "64 - 4096\n",
            "65 - 4225\n",
            "66 - 4356\n",
            "67 - 4489\n",
            "68 - 4624\n",
            "69 - 4761\n",
            "70 - 4900\n",
            "71 - 5041\n",
            "72 - 5184\n",
            "73 - 5329\n",
            "74 - 5476\n",
            "75 - 5625\n",
            "76 - 5776\n",
            "77 - 5929\n",
            "78 - 6084\n",
            "79 - 6241\n",
            "80 - 6400\n",
            "81 - 6561\n",
            "82 - 6724\n",
            "83 - 6889\n",
            "84 - 7056\n",
            "85 - 7225\n",
            "86 - 7396\n",
            "87 - 7569\n",
            "88 - 7744\n",
            "89 - 7921\n",
            "90 - 8100\n",
            "91 - 8281\n",
            "92 - 8464\n",
            "93 - 8649\n",
            "94 - 8836\n",
            "95 - 9025\n",
            "96 - 9216\n",
            "97 - 9409\n",
            "98 - 9604\n",
            "99 - 9801\n",
            "100 - 10000\n"
          ]
        }
      ]
    },
    {
      "cell_type": "markdown",
      "source": [
        "### Punto 4 reto 8"
      ],
      "metadata": {
        "id": "D7nllBhWsim8"
      }
    },
    {
      "cell_type": "code",
      "source": [
        "#8-4\n",
        "def calcular_factorial(*args):\n",
        "  for i in args:\n",
        "    factorial = 1\n",
        "    for i in range(1, n + 1):\n",
        "      factorial *= i\n",
        "  return factorial\n",
        "\n",
        "n=int(input(\"Ingrese un número: \"))\n",
        "factorial= calcular_factorial(n,a)\n",
        "print(factorial)"
      ],
      "metadata": {
        "colab": {
          "base_uri": "https://localhost:8080/"
        },
        "id": "trtA5T3ystBu",
        "outputId": "8a172614-3e77-4f50-f23f-19767d1e8da6"
      },
      "execution_count": 5,
      "outputs": [
        {
          "output_type": "stream",
          "name": "stdout",
          "text": [
            "Ingrese un número: 5\n",
            "120\n"
          ]
        }
      ]
    }
  ]
}