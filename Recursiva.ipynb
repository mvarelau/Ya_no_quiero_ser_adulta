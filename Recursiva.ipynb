{
  "nbformat": 4,
  "nbformat_minor": 0,
  "metadata": {
    "colab": {
      "provenance": []
    },
    "kernelspec": {
      "name": "python3",
      "display_name": "Python 3"
    },
    "language_info": {
      "name": "python"
    }
  },
  "cells": [
    {
      "cell_type": "code",
      "execution_count": 1,
      "metadata": {
        "colab": {
          "base_uri": "https://localhost:8080/"
        },
        "id": "vpchK54O7RAG",
        "outputId": "1c7fa85f-5da4-4585-90a5-87ec5ebad804"
      },
      "outputs": [
        {
          "output_type": "stream",
          "name": "stdout",
          "text": [
            "Ingrese numero: 2\n",
            "Ingrese un número: 10\n",
            "El resultado de 10.0^2 = 100.0\n"
          ]
        }
      ],
      "source": [
        "def potencia_recursiva(n : int, x:float )-> int:\n",
        "  if n == 1:\n",
        "    # caso base\n",
        "    return x\n",
        "  else:\n",
        "    # condicion\n",
        "    return x*potencia_recursiva(n-1,x)\n",
        "\n",
        "if __name__ == \"__main__\":\n",
        "  n = int(input(\"Ingrese numero: \"))\n",
        "  x= float(input(\"Ingrese un número: \"))\n",
        "  potencia = potencia_recursiva(n,x)\n",
        "  print(f\"El resultado de {x}^{n} = {potencia}\")"
      ]
    }
  ]
}